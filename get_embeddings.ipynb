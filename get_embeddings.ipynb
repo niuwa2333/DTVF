{
 "cells": [
  {
   "cell_type": "code",
   "execution_count": 1,
   "id": "86688df6-9fe4-4a69-b782-f2bb8d35d6ff",
   "metadata": {},
   "outputs": [
    {
     "name": "stdout",
     "output_type": "stream",
     "text": [
      "Looking in indexes: https://mirrors.aliyun.com/pypi/simple/\n",
      "Requirement already satisfied: setuptools in ./.local/lib/python3.11/site-packages (69.0.3)\n",
      "\u001b[33mWARNING: Retrying (Retry(total=4, connect=None, read=None, redirect=None, status=None)) after connection broken by 'NewConnectionError('<pip._vendor.urllib3.connection.HTTPSConnection object at 0x2b18a0bfef50>: Failed to establish a new connection: [Errno 101] Network is unreachable')': /pypi/simple/setuptools/\u001b[0m\u001b[33m\n",
      "\u001b[0m\u001b[33mWARNING: Retrying (Retry(total=3, connect=None, read=None, redirect=None, status=None)) after connection broken by 'NewConnectionError('<pip._vendor.urllib3.connection.HTTPSConnection object at 0x2b18a2225c10>: Failed to establish a new connection: [Errno 101] Network is unreachable')': /pypi/simple/setuptools/\u001b[0m\u001b[33m\n",
      "\u001b[0m\u001b[33mWARNING: Retrying (Retry(total=2, connect=None, read=None, redirect=None, status=None)) after connection broken by 'NewConnectionError('<pip._vendor.urllib3.connection.HTTPSConnection object at 0x2b18a22265d0>: Failed to establish a new connection: [Errno 101] Network is unreachable')': /pypi/simple/setuptools/\u001b[0m\u001b[33m\n",
      "\u001b[0m\u001b[33mWARNING: Retrying (Retry(total=1, connect=None, read=None, redirect=None, status=None)) after connection broken by 'NewConnectionError('<pip._vendor.urllib3.connection.HTTPSConnection object at 0x2b18a2227450>: Failed to establish a new connection: [Errno 101] Network is unreachable')': /pypi/simple/setuptools/\u001b[0m\u001b[33m\n",
      "\u001b[0m\u001b[33mWARNING: Retrying (Retry(total=0, connect=None, read=None, redirect=None, status=None)) after connection broken by 'NewConnectionError('<pip._vendor.urllib3.connection.HTTPSConnection object at 0x2b18a2227e50>: Failed to establish a new connection: [Errno 101] Network is unreachable')': /pypi/simple/setuptools/\u001b[0m\u001b[33m\n",
      "\u001b[0mRequirement already satisfied: wheel in ./.local/lib/python3.11/site-packages (0.42.0)\n",
      "\u001b[33mWARNING: Retrying (Retry(total=4, connect=None, read=None, redirect=None, status=None)) after connection broken by 'NewConnectionError('<pip._vendor.urllib3.connection.HTTPSConnection object at 0x2b18a2251110>: Failed to establish a new connection: [Errno 101] Network is unreachable')': /pypi/simple/wheel/\u001b[0m\u001b[33m\n",
      "\u001b[0m\u001b[33mWARNING: Retrying (Retry(total=3, connect=None, read=None, redirect=None, status=None)) after connection broken by 'NewConnectionError('<pip._vendor.urllib3.connection.HTTPSConnection object at 0x2b18a2251890>: Failed to establish a new connection: [Errno 101] Network is unreachable')': /pypi/simple/wheel/\u001b[0m\u001b[33m\n",
      "\u001b[0m\u001b[33mWARNING: Retrying (Retry(total=2, connect=None, read=None, redirect=None, status=None)) after connection broken by 'NewConnectionError('<pip._vendor.urllib3.connection.HTTPSConnection object at 0x2b18a2251dd0>: Failed to establish a new connection: [Errno 101] Network is unreachable')': /pypi/simple/wheel/\u001b[0m\u001b[33m\n",
      "\u001b[0m\u001b[33mWARNING: Retrying (Retry(total=1, connect=None, read=None, redirect=None, status=None)) after connection broken by 'NewConnectionError('<pip._vendor.urllib3.connection.HTTPSConnection object at 0x2b18a2252550>: Failed to establish a new connection: [Errno 101] Network is unreachable')': /pypi/simple/wheel/\u001b[0m\u001b[33m\n",
      "\u001b[0m\u001b[33mWARNING: Retrying (Retry(total=0, connect=None, read=None, redirect=None, status=None)) after connection broken by 'NewConnectionError('<pip._vendor.urllib3.connection.HTTPSConnection object at 0x2b18a2252c50>: Failed to establish a new connection: [Errno 101] Network is unreachable')': /pypi/simple/wheel/\u001b[0m\u001b[33m\n",
      "\u001b[0mNote: you may need to restart the kernel to use updated packages.\n"
     ]
    }
   ],
   "source": [
    "pip install --upgrade setuptools wheel --user -i https://mirrors.aliyun.com/pypi/simple/"
   ]
  },
  {
   "cell_type": "code",
   "execution_count": 2,
   "id": "d785a1c8-ca33-4e85-be04-870885db14c4",
   "metadata": {},
   "outputs": [
    {
     "name": "stdout",
     "output_type": "stream",
     "text": [
      "Looking in indexes: https://mirrors.aliyun.com/pypi/simple/\n",
      "Requirement already satisfied: biopython in ./.local/lib/python3.11/site-packages (1.83)\n",
      "Requirement already satisfied: numpy in /share/apps/anaconda3/envs/pytorch-2.1.0-cuda12.1/lib/python3.11/site-packages (from biopython) (1.26.0)\n",
      "Note: you may need to restart the kernel to use updated packages.\n"
     ]
    }
   ],
   "source": [
    "pip install biopython --user -i https://mirrors.aliyun.com/pypi/simple/"
   ]
  },
  {
   "cell_type": "code",
   "execution_count": 3,
   "id": "4eab284e-191c-423d-92d2-c3ca9ded1f13",
   "metadata": {},
   "outputs": [],
   "source": []
  },
  {
   "cell_type": "code",
   "execution_count": 1,
   "id": "bdcb5783-0ac7-41df-bb30-c6c1fe1b65f5",
   "metadata": {},
   "outputs": [],
   "source": [
    "import sys\n",
    "sys.path.append('./site-packages')"
   ]
  },
  {
   "cell_type": "code",
   "execution_count": 6,
   "id": "fc9e4cf7-c22c-481f-84c0-e3982681c43d",
   "metadata": {},
   "outputs": [
    {
     "name": "stdout",
     "output_type": "stream",
     "text": [
      "Looking in indexes: https://mirrors.aliyun.com/pypi/simple/\n",
      "Requirement already satisfied: transformers in ./.local/lib/python3.11/site-packages (4.36.2)\n",
      "Requirement already satisfied: sentencepiece in ./.local/lib/python3.11/site-packages (0.1.99)\n",
      "Requirement already satisfied: h5py in ./.local/lib/python3.11/site-packages (3.10.0)\n",
      "Requirement already satisfied: filelock in /share/apps/anaconda3/envs/pytorch-2.1.0-cuda12.1/lib/python3.11/site-packages (from transformers) (3.9.0)\n",
      "Requirement already satisfied: huggingface-hub<1.0,>=0.19.3 in ./.local/lib/python3.11/site-packages (from transformers) (0.20.2)\n",
      "Requirement already satisfied: numpy>=1.17 in /share/apps/anaconda3/envs/pytorch-2.1.0-cuda12.1/lib/python3.11/site-packages (from transformers) (1.26.0)\n",
      "Requirement already satisfied: packaging>=20.0 in /share/apps/anaconda3/envs/pytorch-2.1.0-cuda12.1/lib/python3.11/site-packages (from transformers) (23.2)\n",
      "Requirement already satisfied: pyyaml>=5.1 in /share/apps/anaconda3/envs/pytorch-2.1.0-cuda12.1/lib/python3.11/site-packages (from transformers) (6.0.1)\n",
      "Requirement already satisfied: regex!=2019.12.17 in ./.local/lib/python3.11/site-packages (from transformers) (2023.12.25)\n",
      "Requirement already satisfied: requests in /share/apps/anaconda3/envs/pytorch-2.1.0-cuda12.1/lib/python3.11/site-packages (from transformers) (2.31.0)\n",
      "Requirement already satisfied: tokenizers<0.19,>=0.14 in ./.local/lib/python3.11/site-packages (from transformers) (0.15.0)\n",
      "Requirement already satisfied: safetensors>=0.3.1 in ./.local/lib/python3.11/site-packages (from transformers) (0.4.1)\n",
      "Requirement already satisfied: tqdm>=4.27 in ./.local/lib/python3.11/site-packages (from transformers) (4.66.1)\n",
      "Requirement already satisfied: fsspec>=2023.5.0 in ./.local/lib/python3.11/site-packages (from huggingface-hub<1.0,>=0.19.3->transformers) (2023.10.0)\n",
      "Requirement already satisfied: typing-extensions>=3.7.4.3 in /share/apps/anaconda3/envs/pytorch-2.1.0-cuda12.1/lib/python3.11/site-packages (from huggingface-hub<1.0,>=0.19.3->transformers) (4.7.1)\n",
      "Requirement already satisfied: charset-normalizer<4,>=2 in /share/apps/anaconda3/envs/pytorch-2.1.0-cuda12.1/lib/python3.11/site-packages (from requests->transformers) (2.0.4)\n",
      "Requirement already satisfied: idna<4,>=2.5 in /share/apps/anaconda3/envs/pytorch-2.1.0-cuda12.1/lib/python3.11/site-packages (from requests->transformers) (3.4)\n",
      "Requirement already satisfied: urllib3<3,>=1.21.1 in /share/apps/anaconda3/envs/pytorch-2.1.0-cuda12.1/lib/python3.11/site-packages (from requests->transformers) (1.26.18)\n",
      "Requirement already satisfied: certifi>=2017.4.17 in /share/apps/anaconda3/envs/pytorch-2.1.0-cuda12.1/lib/python3.11/site-packages (from requests->transformers) (2023.7.22)\n",
      "Note: you may need to restart the kernel to use updated packages.\n"
     ]
    }
   ],
   "source": [
    "pip install transformers sentencepiece h5py --user -i https://mirrors.aliyun.com/pypi/simple/"
   ]
  },
  {
   "cell_type": "code",
   "execution_count": 7,
   "id": "a20edbea-f132-423b-90e3-7837a28c8c9a",
   "metadata": {},
   "outputs": [
    {
     "name": "stdout",
     "output_type": "stream",
     "text": [
      "Looking in indexes: https://mirrors.aliyun.com/pypi/simple/\n",
      "Requirement already satisfied: pytz in ./.local/lib/python3.11/site-packages (2023.3.post1)\n",
      "Note: you may need to restart the kernel to use updated packages.\n"
     ]
    }
   ],
   "source": [
    "pip install pytz --user -i https://mirrors.aliyun.com/pypi/simple/"
   ]
  },
  {
   "cell_type": "code",
   "execution_count": 8,
   "id": "db632667-f68e-470a-81b9-ce96bf1ff7e9",
   "metadata": {},
   "outputs": [
    {
     "name": "stdout",
     "output_type": "stream",
     "text": [
      "Looking in indexes: https://mirrors.aliyun.com/pypi/simple/\n",
      "Requirement already satisfied: pandas in ./.local/lib/python3.11/site-packages (2.1.4)\n",
      "Requirement already satisfied: scikit-learn in ./.local/lib/python3.11/site-packages (1.3.2)\n",
      "Requirement already satisfied: matplotlib in ./.local/lib/python3.11/site-packages (3.8.2)\n",
      "Requirement already satisfied: numpy<2,>=1.23.2 in /share/apps/anaconda3/envs/pytorch-2.1.0-cuda12.1/lib/python3.11/site-packages (from pandas) (1.26.0)\n",
      "Requirement already satisfied: python-dateutil>=2.8.2 in /share/apps/anaconda3/envs/pytorch-2.1.0-cuda12.1/lib/python3.11/site-packages (from pandas) (2.8.2)\n",
      "Requirement already satisfied: pytz>=2020.1 in ./.local/lib/python3.11/site-packages (from pandas) (2023.3.post1)\n",
      "Requirement already satisfied: tzdata>=2022.1 in ./.local/lib/python3.11/site-packages (from pandas) (2023.4)\n",
      "Requirement already satisfied: scipy>=1.5.0 in ./.local/lib/python3.11/site-packages (from scikit-learn) (1.11.4)\n",
      "Requirement already satisfied: joblib>=1.1.1 in ./.local/lib/python3.11/site-packages (from scikit-learn) (1.3.2)\n",
      "Requirement already satisfied: threadpoolctl>=2.0.0 in ./.local/lib/python3.11/site-packages (from scikit-learn) (3.2.0)\n",
      "Requirement already satisfied: contourpy>=1.0.1 in ./.local/lib/python3.11/site-packages (from matplotlib) (1.2.0)\n",
      "Requirement already satisfied: cycler>=0.10 in ./.local/lib/python3.11/site-packages (from matplotlib) (0.12.1)\n",
      "Requirement already satisfied: fonttools>=4.22.0 in ./.local/lib/python3.11/site-packages (from matplotlib) (4.47.2)\n",
      "Requirement already satisfied: kiwisolver>=1.3.1 in ./.local/lib/python3.11/site-packages (from matplotlib) (1.4.5)\n",
      "Requirement already satisfied: packaging>=20.0 in /share/apps/anaconda3/envs/pytorch-2.1.0-cuda12.1/lib/python3.11/site-packages (from matplotlib) (23.2)\n",
      "Requirement already satisfied: pillow>=8 in /share/apps/anaconda3/envs/pytorch-2.1.0-cuda12.1/lib/python3.11/site-packages (from matplotlib) (10.0.1)\n",
      "Requirement already satisfied: pyparsing>=2.3.1 in ./.local/lib/python3.11/site-packages (from matplotlib) (3.1.1)\n",
      "Requirement already satisfied: six>=1.5 in /share/apps/anaconda3/envs/pytorch-2.1.0-cuda12.1/lib/python3.11/site-packages (from python-dateutil>=2.8.2->pandas) (1.16.0)\n",
      "Note: you may need to restart the kernel to use updated packages.\n"
     ]
    }
   ],
   "source": [
    "pip install pandas scikit-learn matplotlib --user -i https://mirrors.aliyun.com/pypi/simple/"
   ]
  },
  {
   "cell_type": "code",
   "execution_count": 9,
   "id": "4ee1724c-569c-4182-b428-5e4bf1bae674",
   "metadata": {},
   "outputs": [
    {
     "name": "stdout",
     "output_type": "stream",
     "text": [
      "Looking in indexes: https://mirrors.aliyun.com/pypi/simple/\n",
      "Requirement already satisfied: evaluate in ./.local/lib/python3.11/site-packages (0.4.1)\n",
      "Requirement already satisfied: datasets in ./.local/lib/python3.11/site-packages (2.16.1)\n",
      "Requirement already satisfied: tqdm in ./.local/lib/python3.11/site-packages (4.66.1)\n",
      "Requirement already satisfied: scipy in ./.local/lib/python3.11/site-packages (1.11.4)\n",
      "Requirement already satisfied: numpy>=1.17 in /share/apps/anaconda3/envs/pytorch-2.1.0-cuda12.1/lib/python3.11/site-packages (from evaluate) (1.26.0)\n",
      "Requirement already satisfied: dill in ./.local/lib/python3.11/site-packages (from evaluate) (0.3.7)\n",
      "Requirement already satisfied: pandas in ./.local/lib/python3.11/site-packages (from evaluate) (2.1.4)\n",
      "Requirement already satisfied: requests>=2.19.0 in /share/apps/anaconda3/envs/pytorch-2.1.0-cuda12.1/lib/python3.11/site-packages (from evaluate) (2.31.0)\n",
      "Requirement already satisfied: xxhash in ./.local/lib/python3.11/site-packages (from evaluate) (3.4.1)\n",
      "Requirement already satisfied: multiprocess in ./.local/lib/python3.11/site-packages (from evaluate) (0.70.15)\n",
      "Requirement already satisfied: fsspec>=2021.05.0 in ./.local/lib/python3.11/site-packages (from fsspec[http]>=2021.05.0->evaluate) (2023.10.0)\n",
      "Requirement already satisfied: huggingface-hub>=0.7.0 in ./.local/lib/python3.11/site-packages (from evaluate) (0.20.2)\n",
      "Requirement already satisfied: packaging in /share/apps/anaconda3/envs/pytorch-2.1.0-cuda12.1/lib/python3.11/site-packages (from evaluate) (23.2)\n",
      "Requirement already satisfied: responses<0.19 in ./.local/lib/python3.11/site-packages (from evaluate) (0.18.0)\n",
      "Requirement already satisfied: filelock in /share/apps/anaconda3/envs/pytorch-2.1.0-cuda12.1/lib/python3.11/site-packages (from datasets) (3.9.0)\n",
      "Requirement already satisfied: pyarrow>=8.0.0 in ./.local/lib/python3.11/site-packages (from datasets) (14.0.2)\n",
      "Requirement already satisfied: pyarrow-hotfix in ./.local/lib/python3.11/site-packages (from datasets) (0.6)\n",
      "Requirement already satisfied: aiohttp in ./.local/lib/python3.11/site-packages (from datasets) (3.9.1)\n",
      "Requirement already satisfied: pyyaml>=5.1 in /share/apps/anaconda3/envs/pytorch-2.1.0-cuda12.1/lib/python3.11/site-packages (from datasets) (6.0.1)\n",
      "Requirement already satisfied: attrs>=17.3.0 in ./.local/lib/python3.11/site-packages (from aiohttp->datasets) (23.2.0)\n",
      "Requirement already satisfied: multidict<7.0,>=4.5 in ./.local/lib/python3.11/site-packages (from aiohttp->datasets) (6.0.4)\n",
      "Requirement already satisfied: yarl<2.0,>=1.0 in ./.local/lib/python3.11/site-packages (from aiohttp->datasets) (1.9.4)\n",
      "Requirement already satisfied: frozenlist>=1.1.1 in ./.local/lib/python3.11/site-packages (from aiohttp->datasets) (1.4.1)\n",
      "Requirement already satisfied: aiosignal>=1.1.2 in ./.local/lib/python3.11/site-packages (from aiohttp->datasets) (1.3.1)\n",
      "Requirement already satisfied: typing-extensions>=3.7.4.3 in /share/apps/anaconda3/envs/pytorch-2.1.0-cuda12.1/lib/python3.11/site-packages (from huggingface-hub>=0.7.0->evaluate) (4.7.1)\n",
      "Requirement already satisfied: charset-normalizer<4,>=2 in /share/apps/anaconda3/envs/pytorch-2.1.0-cuda12.1/lib/python3.11/site-packages (from requests>=2.19.0->evaluate) (2.0.4)\n",
      "Requirement already satisfied: idna<4,>=2.5 in /share/apps/anaconda3/envs/pytorch-2.1.0-cuda12.1/lib/python3.11/site-packages (from requests>=2.19.0->evaluate) (3.4)\n",
      "Requirement already satisfied: urllib3<3,>=1.21.1 in /share/apps/anaconda3/envs/pytorch-2.1.0-cuda12.1/lib/python3.11/site-packages (from requests>=2.19.0->evaluate) (1.26.18)\n",
      "Requirement already satisfied: certifi>=2017.4.17 in /share/apps/anaconda3/envs/pytorch-2.1.0-cuda12.1/lib/python3.11/site-packages (from requests>=2.19.0->evaluate) (2023.7.22)\n",
      "Requirement already satisfied: python-dateutil>=2.8.2 in /share/apps/anaconda3/envs/pytorch-2.1.0-cuda12.1/lib/python3.11/site-packages (from pandas->evaluate) (2.8.2)\n",
      "Requirement already satisfied: pytz>=2020.1 in ./.local/lib/python3.11/site-packages (from pandas->evaluate) (2023.3.post1)\n",
      "Requirement already satisfied: tzdata>=2022.1 in ./.local/lib/python3.11/site-packages (from pandas->evaluate) (2023.4)\n",
      "Requirement already satisfied: six>=1.5 in /share/apps/anaconda3/envs/pytorch-2.1.0-cuda12.1/lib/python3.11/site-packages (from python-dateutil>=2.8.2->pandas->evaluate) (1.16.0)\n",
      "Note: you may need to restart the kernel to use updated packages.\n"
     ]
    }
   ],
   "source": [
    "pip install evaluate datasets tqdm scipy --user -i https://mirrors.aliyun.com/pypi/simple/"
   ]
  },
  {
   "cell_type": "code",
   "execution_count": 1,
   "id": "8834a834-7ccd-495d-86c0-fa3a8eee97ba",
   "metadata": {},
   "outputs": [
    {
     "name": "stderr",
     "output_type": "stream",
     "text": [
      "/share/home/yzwl_sunjw/.local/lib/python3.11/site-packages/tqdm/auto.py:21: TqdmWarning: IProgress not found. Please update jupyter and ipywidgets. See https://ipywidgets.readthedocs.io/en/stable/user_install.html\n",
      "  from .autonotebook import tqdm as notebook_tqdm\n"
     ]
    },
    {
     "name": "stdout",
     "output_type": "stream",
     "text": [
      "Using cuda:0\n"
     ]
    }
   ],
   "source": [
    "import os.path\n",
    "os.chdir(\"./ProtT5_model\")\n",
    "\n",
    "import torch\n",
    "import torch.nn as nn\n",
    "import torch.nn.functional as F\n",
    "from torch.nn import BCEWithLogitsLoss, CrossEntropyLoss, MSELoss\n",
    "from torch.utils.data import DataLoader\n",
    "\n",
    "import re\n",
    "import numpy as np\n",
    "import pandas as pd\n",
    "import copy\n",
    "\n",
    "import transformers, datasets\n",
    "from transformers.modeling_outputs import SequenceClassifierOutput\n",
    "from transformers.models.t5.modeling_t5 import T5Config, T5PreTrainedModel, T5Stack\n",
    "from transformers.utils.model_parallel_utils import assert_device_map, get_device_map\n",
    "from transformers import T5EncoderModel, T5Tokenizer\n",
    "from transformers import TrainingArguments, Trainer, set_seed\n",
    "\n",
    "from evaluate import load\n",
    "from datasets import Dataset\n",
    "\n",
    "from tqdm import tqdm\n",
    "import random\n",
    "from scipy import stats\n",
    "from sklearn.metrics import accuracy_score\n",
    "import torch\n",
    "import h5py\n",
    "import time\n",
    "import matplotlib.pyplot as plt\n",
    "device = torch.device('cuda:0' if torch.cuda.is_available() else 'cpu')###推理任务仅需单块GPU\n",
    "print(\"Using {}\".format(device))"
   ]
  },
  {
   "cell_type": "code",
   "execution_count": 2,
   "id": "895d69ab-9cdc-48d4-97ef-fccf8d417d12",
   "metadata": {},
   "outputs": [],
   "source": [
    "seq_path ='./DC.fasta'\n",
    "#仅使用per_protein读取嵌入\n",
    "per_protein=True\n",
    "per_protein_path = \"./DC.h5\"\n",
    "per_residue=False\n",
    "sec_struct=False\n",
    "assert per_protein is True or per_residue is True or sec_struct is True, print(\n",
    "    \"False\")"
   ]
  },
  {
   "cell_type": "code",
   "execution_count": 3,
   "id": "f12f1489-6f1b-4f09-a32a-eb7d0e4f2a80",
   "metadata": {},
   "outputs": [],
   "source": [
    "###这里的bin用的是全精度\n",
    "def get_T5_model():\n",
    "    model = T5EncoderModel.from_pretrained(\"./ProtT5_model\")#.bin权重文件本地绝对路径\n",
    "    model = model.to(device) \n",
    "    model = model.eval() \n",
    "    tokenizer = T5Tokenizer.from_pretrained('/share/home/yzwl_sunjw/ProtT5_model', do_lower_case=False)#分词器本地绝对路径\n",
    "\n",
    "    return model, tokenizer"
   ]
  },
  {
   "cell_type": "code",
   "execution_count": 9,
   "id": "bcd69f81-56af-4e92-bad7-69955605116d",
   "metadata": {},
   "outputs": [],
   "source": [
    "###读取fasta文件\n",
    "def read_fasta( fasta_path, split_char=\"!\", id_field=0):\n",
    "    '''\n",
    "        Reads in fasta file containing multiple sequences.\n",
    "        Split_char and id_field allow to control identifier extraction from header.\n",
    "        E.g.: set split_char=\"|\" and id_field=1 for SwissProt/UniProt Headers.\n",
    "        Returns dictionary holding multiple sequences or only single\n",
    "        sequence, depending on input file.\n",
    "    '''\n",
    "\n",
    "    seqs = dict()\n",
    "    with open( fasta_path, 'r' ) as fasta_f:\n",
    "        for line in fasta_f:\n",
    "            # get uniprot ID from header and create new entry\n",
    "            if line.startswith('>'):\n",
    "                uniprot_id = line.replace('>', '').strip().split(split_char)[id_field]\n",
    "                # replace tokens that are mis-interpreted when loading h5\n",
    "                uniprot_id = uniprot_id.replace(\"/\",\"_\").replace(\".\",\"_\")\n",
    "                seqs[ uniprot_id ] = ''\n",
    "            else:\n",
    "                # repl. all whie-space chars and join seqs spanning multiple lines, drop gaps and cast to upper-case\n",
    "                seq= ''.join( line.split() ).upper().replace(\"-\",\"\")\n",
    "                # repl. all non-standard AAs and map them to unknown/X\n",
    "                seq = seq.replace('U','X').replace('Z','X').replace('O','X')\n",
    "                seqs[ uniprot_id ] += seq\n",
    "    example_id=next(iter(seqs))\n",
    "    print(\"Read {} sequences.\".format(len(seqs)))\n",
    "    print(\"Example:\\n{}\\n{}\".format(example_id,seqs[example_id]))\n",
    "\n",
    "    return seqs"
   ]
  },
  {
   "cell_type": "code",
   "execution_count": 10,
   "id": "0629eb20-0274-495b-9005-601cb7723130",
   "metadata": {},
   "outputs": [],
   "source": [
    "#获取embeddings并返回\n",
    "def get_embeddings( model, tokenizer, seqs, per_residue, per_protein, sec_struct,\n",
    "                   max_residues=9000, max_seq_len=1000, max_batch=100 ):\n",
    "\n",
    "    if sec_struct:\n",
    "      sec_struct_model = load_sec_struct_model()\n",
    "\n",
    "    results = {\"residue_embs\" : dict(),\n",
    "               \"protein_embs\" : dict(),\n",
    "               \"sec_structs\" : dict()\n",
    "               }\n",
    "    seq_dict   = sorted( seqs.items(), key=lambda kv: len( seqs[kv[0]] ), reverse=True )\n",
    "    start = time.time()\n",
    "    batch = list()\n",
    "    for seq_idx, (pdb_id, seq) in enumerate(seq_dict,1):\n",
    "        seq = seq\n",
    "        seq_len = len(seq)\n",
    "        seq = ' '.join(list(seq))\n",
    "        batch.append((pdb_id,seq,seq_len))\n",
    "        n_res_batch = sum([ s_len for  _, _, s_len in batch ]) + seq_len\n",
    "        if len(batch) >= max_batch or n_res_batch>=max_residues or seq_idx==len(seq_dict) or seq_len>max_seq_len:\n",
    "            pdb_ids, seqs, seq_lens = zip(*batch)\n",
    "            batch = list()\n",
    "            token_encoding = tokenizer.batch_encode_plus(seqs, add_special_tokens=True, padding=\"longest\")\n",
    "            input_ids      = torch.tensor(token_encoding['input_ids']).to(device)\n",
    "            attention_mask = torch.tensor(token_encoding['attention_mask']).to(device)\n",
    "\n",
    "            try:\n",
    "                with torch.no_grad():\n",
    "                    # returns: ( batch-size x max_seq_len_in_minibatch x embedding_dim )\n",
    "                    embedding_repr = model(input_ids, attention_mask=attention_mask)\n",
    "            except RuntimeError:\n",
    "                print(\"RuntimeError during embedding for {} (L={})\".format(pdb_id, seq_len))\n",
    "                continue\n",
    "\n",
    "            if sec_struct: \n",
    "              d3_Yhat, d8_Yhat, diso_Yhat = sec_struct_model(embedding_repr.last_hidden_state)\n",
    "\n",
    "\n",
    "            for batch_idx, identifier in enumerate(pdb_ids): \n",
    "                s_len = seq_lens[batch_idx]\n",
    "                emb = embedding_repr.last_hidden_state[batch_idx,:s_len]\n",
    "                if sec_struct: \n",
    "                    results[\"sec_structs\"][identifier] = torch.max( d3_Yhat[batch_idx,:s_len], dim=1 )[1].detach().cpu().numpy().squeeze()\n",
    "                if per_residue: \n",
    "                    results[\"residue_embs\"][ identifier ] = emb.detach().cpu().numpy().squeeze()\n",
    "                if per_protein: \n",
    "                    protein_emb = emb.mean(dim=0)\n",
    "                    results[\"protein_embs\"][identifier] = protein_emb.detach().cpu().numpy().squeeze()\n",
    "\n",
    "\n",
    "    passed_time=time.time()-start\n",
    "    avg_time = passed_time/len(results[\"residue_embs\"]) if per_residue else passed_time/len(results[\"protein_embs\"])\n",
    "    print('\\n############# EMBEDDING STATS #############')\n",
    "    print('Total number of per-residue embeddings: {}'.format(len(results[\"residue_embs\"])))\n",
    "    print('Total number of per-protein embeddings: {}'.format(len(results[\"protein_embs\"])))\n",
    "    print(\"Time for generating embeddings: {:.1f}[m] ({:.3f}[s/protein])\".format(\n",
    "        passed_time/60, avg_time ))\n",
    "    print('\\n############# END #############')\n",
    "    return results"
   ]
  },
  {
   "cell_type": "code",
   "execution_count": 11,
   "id": "08facfd0-a241-468f-b7bd-1f23fbaddfa4",
   "metadata": {},
   "outputs": [],
   "source": [
    "def save_embeddings(emb_dict,out_path):\n",
    "    with h5py.File(str(out_path), \"w\") as hf:\n",
    "        for sequence_id, embedding in emb_dict.items():\n",
    "            hf.create_dataset(sequence_id, data=embedding)\n",
    "    return None"
   ]
  },
  {
   "cell_type": "code",
   "execution_count": null,
   "id": "89fb1430-67e5-4a4b-bbde-4793e90d65e3",
   "metadata": {},
   "outputs": [],
   "source": []
  },
  {
   "cell_type": "code",
   "execution_count": 13,
   "id": "03f80e5b-0b3a-414b-b5cf-1deeece53c4d",
   "metadata": {},
   "outputs": [
    {
     "name": "stdout",
     "output_type": "stream",
     "text": [
      "Read 1 sequences.\n",
      "Example:\n",
      "tr|Q87W42|Q87W42_PSESM Type III effector HopG1 OS=Pseudomonas syringae pv_ tomato (strain ATCC BAA-871 _ DC3000) OX=223283 GN=hopG1 PE=4 SV=1\n",
      "MQIKNSHLYSASRMVQNTFNASPKMEVTNAIAKNNEPAALSATQTAKTHEGDSKGQSSNNSKLPFRAMRYAAYLAGSAYLYDKTANNFFLSTTSLHDGKGGFTSDARLNDAQDKARKRYQNNHSSTLENKNSLLSPLRLCGENQFLTMIDYRAATKIYLSDLVDTEQAHTSILKNIMCLKGELTNEEAIKKLNPEKTPKDYDLTNSEAYISKNKYSLTGVKNEETGSTGYTSRSITKPFVEKGLKHFIKATHGEKALTPKQCMETLDNLLRKSITLNSDSQFAAGQALLVFRQVYAGEDAWGDAERVILKSHYNRGTVLQDEADKIELSRPFSEQDLAKNMFKRNTSIAGPVLYHAYIYIQEKIFKLPPDKIEDLKHKSMADLKNLPLTHVKLSNSGVGFEDASGLGDSFTALNATSCVNHARIMSGEPPLSKDDVVILIGCLNAVYDNSSGIRHSLREIARGCFVGAGFTVQDGDDFYKQICKNASKQFYNG\n",
      "\n",
      "############# EMBEDDING STATS #############\n",
      "Total number of per-residue embeddings: 0\n",
      "Total number of per-protein embeddings: 1\n",
      "Time for generating embeddings: 0.0[m] (2.980[s/protein])\n",
      "\n",
      "############# END #############\n"
     ]
    }
   ],
   "source": [
    "model, tokenizer = get_T5_model()\n",
    "\n",
    "seqs = read_fasta( seq_path )\n",
    "\n",
    "results = get_embeddings( model, tokenizer, seqs,\n",
    "                         per_residue, per_protein, sec_struct)\n",
    "\n",
    "if per_residue:\n",
    "  save_embeddings(results[\"residue_embs\"], per_residue_path)\n",
    "if per_protein:\n",
    "  save_embeddings(results[\"protein_embs\"], per_protein_path)\n",
    "if sec_struct:\n",
    "  write_prediction_fasta(results[\"sec_structs\"], sec_struct_path)"
   ]
  },
  {
   "cell_type": "code",
   "execution_count": null,
   "id": "c34b3c0b-5328-4a17-b3c1-c491403ed7c6",
   "metadata": {},
   "outputs": [],
   "source": []
  }
 ],
 "metadata": {
  "kernelspec": {
   "display_name": "pytorch-2.1.0-cuda12.1",
   "language": "python",
   "name": "pytorch-2.1.0-cuda12.1"
  },
  "language_info": {
   "codemirror_mode": {
    "name": "ipython",
    "version": 3
   },
   "file_extension": ".py",
   "mimetype": "text/x-python",
   "name": "python",
   "nbconvert_exporter": "python",
   "pygments_lexer": "ipython3",
   "version": "3.11.5"
  }
 },
 "nbformat": 4,
 "nbformat_minor": 5
}
